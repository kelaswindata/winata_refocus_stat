{
 "cells": [
  {
   "attachments": {},
   "cell_type": "markdown",
   "metadata": {},
   "source": [
    "## Task Description\n",
    "\n",
    "As a speaker for a Python course, you have been provided with a **[dataset](\"https://docs.google.com/spreadsheets/d/1o9eAOy3TKtP9MYmxDSPN6wwnc3gdG04Q/edit#gid=1736122695\")** containing information about used cars, including their prices, kilometers driven, fuel type, transmission, ownership, engine capacity, and number of seats. Your task is to use statistical analysis techniques to understand the relationships between these variables and the prices of the cars. Specifically, you are asked to:\n",
    "\n",
    "1. Perform basic statistical analyses to understand the average price of the cars.\n",
    "2. Identify trends and patterns in the prices of the cars over time.\n",
    "3. Analyze the correlation between the kilometers driven of a car and its price.\n",
    "4. Use linear regression to build a model that predicts the price of a car based on the other variables in the dataset.\n",
    "5. Present the results of your linear regression model, including the coefficients of the variables and any relevant statistical tests. You may also include a plot showing the fitted line and the residuals to visualize the model's fit to the data.\n",
    "\n",
    " This task will require you to use a variety of statistical analysis techniques, including scatter plots, correlation analysis, and linear regression, to understand the relationships between the variables in the dataset and make predictions based on the data.\n"
   ]
  },
  {
   "cell_type": "code",
   "execution_count": 208,
   "metadata": {},
   "outputs": [],
   "source": [
    "# Import libraries\n",
    "import pandas as pd\n",
    "import numpy as np\n",
    "import re\n",
    "import scipy.stats\n",
    "import seaborn as sns"
   ]
  },
  {
   "cell_type": "code",
   "execution_count": 209,
   "metadata": {},
   "outputs": [],
   "source": [
    "# Read data\n",
    "car = pd.read_excel(\"../Refocus/data_input/old_car_price.xlsx\")"
   ]
  },
  {
   "cell_type": "code",
   "execution_count": 210,
   "metadata": {},
   "outputs": [
    {
     "data": {
      "text/html": [
       "<div>\n",
       "<style scoped>\n",
       "    .dataframe tbody tr th:only-of-type {\n",
       "        vertical-align: middle;\n",
       "    }\n",
       "\n",
       "    .dataframe tbody tr th {\n",
       "        vertical-align: top;\n",
       "    }\n",
       "\n",
       "    .dataframe thead th {\n",
       "        text-align: right;\n",
       "    }\n",
       "</style>\n",
       "<table border=\"1\" class=\"dataframe\">\n",
       "  <thead>\n",
       "    <tr style=\"text-align: right;\">\n",
       "      <th></th>\n",
       "      <th>no</th>\n",
       "      <th>car_name</th>\n",
       "      <th>car_prices_in_usd</th>\n",
       "      <th>kms_driven</th>\n",
       "      <th>fuel_type</th>\n",
       "      <th>transmission</th>\n",
       "      <th>ownership</th>\n",
       "      <th>manufacture</th>\n",
       "      <th>engine</th>\n",
       "      <th>Seats</th>\n",
       "    </tr>\n",
       "  </thead>\n",
       "  <tbody>\n",
       "    <tr>\n",
       "      <th>0</th>\n",
       "      <td>1</td>\n",
       "      <td>Jeep Compass 2.0 Longitude Option BSIV</td>\n",
       "      <td>10030000</td>\n",
       "      <td>86,226 kms</td>\n",
       "      <td>Diesel</td>\n",
       "      <td>Manual</td>\n",
       "      <td>1st Owner</td>\n",
       "      <td>2017</td>\n",
       "      <td>1956 cc</td>\n",
       "      <td>5 Seats</td>\n",
       "    </tr>\n",
       "    <tr>\n",
       "      <th>1</th>\n",
       "      <td>2</td>\n",
       "      <td>Renault Duster RXZ Turbo CVT</td>\n",
       "      <td>12830000</td>\n",
       "      <td>13,248 kms</td>\n",
       "      <td>Petrol</td>\n",
       "      <td>Automatic</td>\n",
       "      <td>1st Owner</td>\n",
       "      <td>2021</td>\n",
       "      <td>1330 cc</td>\n",
       "      <td>5 Seats</td>\n",
       "    </tr>\n",
       "    <tr>\n",
       "      <th>2</th>\n",
       "      <td>3</td>\n",
       "      <td>Toyota Camry 2.5 G</td>\n",
       "      <td>16400000</td>\n",
       "      <td>60,343 kms</td>\n",
       "      <td>Petrol</td>\n",
       "      <td>Automatic</td>\n",
       "      <td>1st Owner</td>\n",
       "      <td>2016</td>\n",
       "      <td>2494 cc</td>\n",
       "      <td>5 Seats</td>\n",
       "    </tr>\n",
       "    <tr>\n",
       "      <th>3</th>\n",
       "      <td>4</td>\n",
       "      <td>Honda Jazz VX CVT</td>\n",
       "      <td>7770000</td>\n",
       "      <td>26,696 kms</td>\n",
       "      <td>Petrol</td>\n",
       "      <td>Automatic</td>\n",
       "      <td>1st Owner</td>\n",
       "      <td>2018</td>\n",
       "      <td>1199 cc</td>\n",
       "      <td>5 Seats</td>\n",
       "    </tr>\n",
       "    <tr>\n",
       "      <th>4</th>\n",
       "      <td>5</td>\n",
       "      <td>Volkswagen Polo 1.2 MPI Highline</td>\n",
       "      <td>5150000</td>\n",
       "      <td>69,414 kms</td>\n",
       "      <td>Petrol</td>\n",
       "      <td>Manual</td>\n",
       "      <td>1st Owner</td>\n",
       "      <td>2016</td>\n",
       "      <td>1199 cc</td>\n",
       "      <td>5 Seats</td>\n",
       "    </tr>\n",
       "  </tbody>\n",
       "</table>\n",
       "</div>"
      ],
      "text/plain": [
       "   no                                car_name   car_prices_in_usd   \\\n",
       "0   1  Jeep Compass 2.0 Longitude Option BSIV             10030000   \n",
       "1   2            Renault Duster RXZ Turbo CVT             12830000   \n",
       "2   3                      Toyota Camry 2.5 G             16400000   \n",
       "3   4                       Honda Jazz VX CVT              7770000   \n",
       "4   5        Volkswagen Polo 1.2 MPI Highline              5150000   \n",
       "\n",
       "   kms_driven fuel_type transmission  ownership  manufacture   engine    Seats  \n",
       "0  86,226 kms    Diesel       Manual  1st Owner         2017  1956 cc  5 Seats  \n",
       "1  13,248 kms    Petrol    Automatic  1st Owner         2021  1330 cc  5 Seats  \n",
       "2  60,343 kms    Petrol    Automatic  1st Owner         2016  2494 cc  5 Seats  \n",
       "3  26,696 kms    Petrol    Automatic  1st Owner         2018  1199 cc  5 Seats  \n",
       "4  69,414 kms    Petrol       Manual  1st Owner         2016  1199 cc  5 Seats  "
      ]
     },
     "execution_count": 210,
     "metadata": {},
     "output_type": "execute_result"
    }
   ],
   "source": [
    "# Explore data\n",
    "car.head()"
   ]
  },
  {
   "cell_type": "code",
   "execution_count": 211,
   "metadata": {},
   "outputs": [],
   "source": [
    "# Drop un-use colomn\n",
    "car.drop(\"no\", axis=1, inplace = True)"
   ]
  },
  {
   "cell_type": "code",
   "execution_count": 212,
   "metadata": {},
   "outputs": [
    {
     "data": {
      "text/plain": [
       "Index(['car_name', ' car_prices_in_usd ', 'kms_driven', 'fuel_type',\n",
       "       'transmission', 'ownership', 'manufacture', 'engine', 'Seats'],\n",
       "      dtype='object')"
      ]
     },
     "execution_count": 212,
     "metadata": {},
     "output_type": "execute_result"
    }
   ],
   "source": [
    "# There is space in the column name and inconsistency in name format\n",
    "car.columns"
   ]
  },
  {
   "cell_type": "code",
   "execution_count": 213,
   "metadata": {},
   "outputs": [],
   "source": [
    "# Remove special character from columns names and rename columns to lower case\n",
    "car.columns =  (car.columns\n",
    "                .str.replace(' ', '') # Remove space\n",
    "                .str.lower()) # To lower case"
   ]
  },
  {
   "cell_type": "code",
   "execution_count": 214,
   "metadata": {},
   "outputs": [
    {
     "name": "stdout",
     "output_type": "stream",
     "text": [
      "<class 'pandas.core.frame.DataFrame'>\n",
      "RangeIndex: 5512 entries, 0 to 5511\n",
      "Data columns (total 9 columns):\n",
      " #   Column             Non-Null Count  Dtype \n",
      "---  ------             --------------  ----- \n",
      " 0   car_name           5512 non-null   object\n",
      " 1   car_prices_in_usd  5512 non-null   int64 \n",
      " 2   kms_driven         5512 non-null   object\n",
      " 3   fuel_type          5512 non-null   object\n",
      " 4   transmission       5512 non-null   object\n",
      " 5   ownership          5512 non-null   object\n",
      " 6   manufacture        5512 non-null   int64 \n",
      " 7   engine             5512 non-null   object\n",
      " 8   seats              5512 non-null   object\n",
      "dtypes: int64(2), object(7)\n",
      "memory usage: 2.6 MB\n"
     ]
    }
   ],
   "source": [
    "# Use info to determine missing counts - none are missing!\n",
    "car.info(memory_usage=\"deep\")"
   ]
  },
  {
   "attachments": {},
   "cell_type": "markdown",
   "metadata": {},
   "source": [
    "From data above we know that manufacture is date time with format in year, so let's check it one more time and change the data format."
   ]
  },
  {
   "cell_type": "code",
   "execution_count": 215,
   "metadata": {},
   "outputs": [
    {
     "data": {
      "text/plain": [
       "2017    621\n",
       "2015    530\n",
       "2018    526\n",
       "2019    493\n",
       "2016    470\n",
       "2014    461\n",
       "2013    372\n",
       "2020    347\n",
       "2021    344\n",
       "2012    301\n",
       "2011    263\n",
       "2010    217\n",
       "2022    145\n",
       "2009    132\n",
       "2008    113\n",
       "2007     60\n",
       "2006     42\n",
       "2005     28\n",
       "2004     16\n",
       "2002     13\n",
       "2003      8\n",
       "2000      4\n",
       "1998      2\n",
       "2001      2\n",
       "1995      1\n",
       "1999      1\n",
       "Name: manufacture, dtype: int64"
      ]
     },
     "execution_count": 215,
     "metadata": {},
     "output_type": "execute_result"
    }
   ],
   "source": [
    "# Check the unique data values\n",
    "car[\"manufacture\"].value_counts()"
   ]
  },
  {
   "cell_type": "code",
   "execution_count": 216,
   "metadata": {},
   "outputs": [],
   "source": [
    "# Change the date format\n",
    "car['manufacture'] = pd.to_datetime(car['manufacture'], format='%Y')"
   ]
  },
  {
   "cell_type": "code",
   "execution_count": 217,
   "metadata": {},
   "outputs": [
    {
     "data": {
      "text/html": [
       "<div>\n",
       "<style scoped>\n",
       "    .dataframe tbody tr th:only-of-type {\n",
       "        vertical-align: middle;\n",
       "    }\n",
       "\n",
       "    .dataframe tbody tr th {\n",
       "        vertical-align: top;\n",
       "    }\n",
       "\n",
       "    .dataframe thead th {\n",
       "        text-align: right;\n",
       "    }\n",
       "</style>\n",
       "<table border=\"1\" class=\"dataframe\">\n",
       "  <thead>\n",
       "    <tr style=\"text-align: right;\">\n",
       "      <th></th>\n",
       "      <th>car_prices_in_usd</th>\n",
       "    </tr>\n",
       "  </thead>\n",
       "  <tbody>\n",
       "    <tr>\n",
       "      <th>count</th>\n",
       "      <td>5.512000e+03</td>\n",
       "    </tr>\n",
       "    <tr>\n",
       "      <th>mean</th>\n",
       "      <td>1.701122e+09</td>\n",
       "    </tr>\n",
       "    <tr>\n",
       "      <th>std</th>\n",
       "      <td>1.147131e+10</td>\n",
       "    </tr>\n",
       "    <tr>\n",
       "      <th>min</th>\n",
       "      <td>1.000000e+06</td>\n",
       "    </tr>\n",
       "    <tr>\n",
       "      <th>25%</th>\n",
       "      <td>3.300000e+06</td>\n",
       "    </tr>\n",
       "    <tr>\n",
       "      <th>50%</th>\n",
       "      <td>5.750000e+06</td>\n",
       "    </tr>\n",
       "    <tr>\n",
       "      <th>75%</th>\n",
       "      <td>1.137000e+07</td>\n",
       "    </tr>\n",
       "    <tr>\n",
       "      <th>max</th>\n",
       "      <td>9.999900e+10</td>\n",
       "    </tr>\n",
       "  </tbody>\n",
       "</table>\n",
       "</div>"
      ],
      "text/plain": [
       "       car_prices_in_usd\n",
       "count       5.512000e+03\n",
       "mean        1.701122e+09\n",
       "std         1.147131e+10\n",
       "min         1.000000e+06\n",
       "25%         3.300000e+06\n",
       "50%         5.750000e+06\n",
       "75%         1.137000e+07\n",
       "max         9.999900e+10"
      ]
     },
     "execution_count": 217,
     "metadata": {},
     "output_type": "execute_result"
    }
   ],
   "source": [
    "car.describe().round()"
   ]
  },
  {
   "cell_type": "markdown",
   "metadata": {},
   "source": [
    "1. Perform basic statistical analyses to understand the average price of the cars."
   ]
  },
  {
   "cell_type": "code",
   "execution_count": 218,
   "metadata": {},
   "outputs": [
    {
     "name": "stdout",
     "output_type": "stream",
     "text": [
      "The average price of the cars is 1701121613$\n"
     ]
    }
   ],
   "source": [
    "# The average price of the cars is\n",
    "car_average_price = round(car[\"car_prices_in_usd\"].mean())\n",
    "\n",
    "print(f'The average price of the cars is {car_average_price}$')"
   ]
  },
  {
   "cell_type": "markdown",
   "metadata": {},
   "source": [
    "2. Identify trends and patterns in the prices of the cars over time."
   ]
  },
  {
   "attachments": {},
   "cell_type": "markdown",
   "metadata": {},
   "source": [
    "Before answering question I will do exploration analysis first"
   ]
  },
  {
   "cell_type": "code",
   "execution_count": 219,
   "metadata": {},
   "outputs": [
    {
     "data": {
      "text/plain": [
       "1896"
      ]
     },
     "execution_count": 219,
     "metadata": {},
     "output_type": "execute_result"
    }
   ],
   "source": [
    "# Count the car name\n",
    "car['car_name'].nunique()"
   ]
  },
  {
   "attachments": {},
   "cell_type": "markdown",
   "metadata": {},
   "source": [
    "There is a lot of car name, and after exploring the data I have hypotesis that the first name of \"car_name\" is brand name so I will look into it, and analysis based on it."
   ]
  },
  {
   "cell_type": "code",
   "execution_count": 220,
   "metadata": {},
   "outputs": [
    {
     "name": "stderr",
     "output_type": "stream",
     "text": [
      "/tmp/ipykernel_3914/2156550956.py:2: FutureWarning: In a future version of pandas all arguments of StringMethods.split except for the argument 'pat' will be keyword-only.\n",
      "  car['brand'] = car[\"car_name\"].str.split(\" \", 1, expand=True)[0]\n"
     ]
    }
   ],
   "source": [
    "# Get the brand name of car name\n",
    "car['brand'] = car[\"car_name\"].str.split(\" \", 1, expand=True)[0]"
   ]
  },
  {
   "cell_type": "code",
   "execution_count": 221,
   "metadata": {},
   "outputs": [
    {
     "name": "stdout",
     "output_type": "stream",
     "text": [
      "Total Brand are 32, and this is the list of brands ['Jeep' 'Renault' 'Toyota' 'Honda' 'Volkswagen' 'Maruti' 'Mahindra'\n",
      " 'Hyundai' 'Nissan' 'Kia' 'MG' 'Tata' 'BMW' 'Mercedes-Benz' 'Datsun'\n",
      " 'Volvo' 'Audi' 'Porsche' 'Ford' 'Chevrolet' 'Skoda' 'Lexus' 'Land' 'Mini'\n",
      " 'Jaguar' 'Mitsubishi' 'Force' 'Premier' 'Fiat' 'Maserati' 'Bentley'\n",
      " 'Isuzu']\n"
     ]
    }
   ],
   "source": [
    "print(f'Total Brand are {car[\"brand\"].nunique()}, and this is the list of brands {car[\"brand\"].unique()}')"
   ]
  },
  {
   "cell_type": "code",
   "execution_count": 222,
   "metadata": {},
   "outputs": [],
   "source": [
    "# Looking for the median of frequency cars sold\n",
    "car_median_freq = (car\n",
    ".groupby(car[\"brand\"])\n",
    ".agg({\"car_prices_in_usd\" : \"count\"})\n",
    ".sort_values(\"car_prices_in_usd\", ascending=False)\n",
    ".median()[0]\n",
    ")\n",
    "\n",
    "\n",
    "# List car price above median frequency\n",
    "\n",
    "car_brand_above_median_freq = (car\n",
    ".groupby(car[\"brand\"])\n",
    ".agg({\"car_prices_in_usd\" : \"count\"})\n",
    ".sort_values(\"car_prices_in_usd\", ascending=False)\n",
    ".query(\"car_prices_in_usd >= @car_median_freq\") # Filtering data based on medium frequency param\n",
    ".loc[:].index.to_list()\n",
    ")\n",
    "\n",
    "# Set new column for our new tier\n",
    "car['tier'] = \"bottom\"\n",
    "car.loc[car[\"brand\"].isin(car_brand_above_median_freq),\"tier\"] = \"top\""
   ]
  },
  {
   "cell_type": "code",
   "execution_count": 223,
   "metadata": {},
   "outputs": [
    {
     "data": {
      "text/plain": [
       "<AxesSubplot: xlabel='brand'>"
      ]
     },
     "execution_count": 223,
     "metadata": {},
     "output_type": "execute_result"
    },
    {
     "data": {
      "image/png": "[encoded data removed]",
      "text/plain": [
       "<Figure size 640x480 with 1 Axes>"
      ]
     },
     "metadata": {},
     "output_type": "display_data"
    }
   ],
   "source": [
    "# Visualize the data\n",
    "\n",
    "(car\n",
    ".query(\"tier == 'top'\")\n",
    ".groupby(car[\"brand\"])\n",
    ".agg({\"car_prices_in_usd\" : \"sum\"})\n",
    ".sort_values(\"car_prices_in_usd\", ascending=False)\n",
    ").plot.bar()"
   ]
  },
  {
   "cell_type": "markdown",
   "metadata": {},
   "source": [
    "Now we can see the trend over time"
   ]
  },
  {
   "cell_type": "code",
   "execution_count": 224,
   "metadata": {},
   "outputs": [
    {
     "data": {
      "text/plain": [
       "<AxesSubplot: title={'center': 'Oil Price 2013-2017'}, xlabel='Date', ylabel='USD Price'>"
      ]
     },
     "execution_count": 224,
     "metadata": {},
     "output_type": "execute_result"
    },
    {
     "data": {
      "image/png": "[encoded data removed]",
      "text/plain": [
       "<Figure size 640x480 with 1 Axes>"
      ]
     },
     "metadata": {},
     "output_type": "display_data"
    }
   ],
   "source": [
    "# Line for top tier\n",
    "(car\n",
    "  .query(\"tier == 'top'\")\n",
    "  .groupby(car[\"manufacture\"].dt.year)\n",
    "  .agg({\"car_prices_in_usd\": \"mean\"})\n",
    "  .loc[:, \"car_prices_in_usd\"]\n",
    "  .plot(c=\"#e25d00\",\n",
    "    legend=True,\n",
    "    label=\"Top Tier\")\n",
    ")\n",
    "\n",
    "# Line for bottom tier\n",
    "(car\n",
    "  .query(\"tier == 'bottom'\")\n",
    "  .groupby(car[\"manufacture\"].dt.year)\n",
    "  .agg({\"car_prices_in_usd\": \"mean\"})\n",
    "  .loc[:, \"car_prices_in_usd\"]\n",
    "  .plot(c=\"#b1d6e1\",\n",
    "    legend=True,\n",
    "    label=\"Bottom Tier\")\n",
    ")\n",
    "\n",
    "# Line for all data\n",
    "(car\n",
    "  .groupby(car[\"manufacture\"].dt.year)\n",
    "  .agg({\"car_prices_in_usd\": \"mean\"})\n",
    "  .loc[:, \"car_prices_in_usd\"]\n",
    "  .plot(title=\"Oil Price 2013-2017\", \n",
    "    xlabel=\"Date\", \n",
    "    ylabel=\"USD Price\", \n",
    "    c=\"Black\",\n",
    "    legend=True,\n",
    "    label=\"All Data\")\n",
    ")\n"
   ]
  },
  {
   "attachments": {},
   "cell_type": "markdown",
   "metadata": {},
   "source": [
    "**we can see that in term of mean price, all data and top tier data have same pattern, and bottom tier not really significant to our data. And all data show that we have negative trend**\n",
    "\n",
    "Of course we can do more analystical based on other columns, but for now we will stop here."
   ]
  },
  {
   "cell_type": "markdown",
   "metadata": {},
   "source": [
    "3. Analyze the correlation between the kilometers driven of a car and its price."
   ]
  },
  {
   "attachments": {},
   "cell_type": "markdown",
   "metadata": {},
   "source": [
    "To answer this questions we still need to do cleansing especially at kms_driven because the type of data is object."
   ]
  },
  {
   "cell_type": "code",
   "execution_count": 226,
   "metadata": {},
   "outputs": [
    {
     "name": "stderr",
     "output_type": "stream",
     "text": [
      "/tmp/ipykernel_3914/694322375.py:2: FutureWarning: In a future version of pandas all arguments of StringMethods.split except for the argument 'pat' will be keyword-only.\n",
      "  car['kms_value'] = car['kms_driven'].str.split(\" \", 1, expand= True)[0].str.replace(',', '')\n"
     ]
    }
   ],
   "source": [
    "# Create new column for km values\n",
    "car['kms_value'] = car['kms_driven'].str.split(\" \", 1, expand= True)[0].str.replace(',', '')\n",
    "\n",
    "# Set the correct number for column\n",
    "car = car.astype(\n",
    "    {\"kms_value\": \"int32\"\n",
    "     }\n",
    ")"
   ]
  },
  {
   "attachments": {},
   "cell_type": "markdown",
   "metadata": {},
   "source": [
    "Now we ready to analyze.\n",
    "First let plot our data"
   ]
  },
  {
   "cell_type": "code",
   "execution_count": 227,
   "metadata": {},
   "outputs": [
    {
     "data": {
      "text/plain": [
       "<AxesSubplot: xlabel='kms_value', ylabel='car_prices_in_usd'>"
      ]
     },
     "execution_count": 227,
     "metadata": {},
     "output_type": "execute_result"
    },
    {
     "data": {
      "image/png": "[encoded data removed]",
      "text/plain": [
       "<Figure size 640x480 with 1 Axes>"
      ]
     },
     "metadata": {},
     "output_type": "display_data"
    }
   ],
   "source": [
    "# Plotting data using Scatter plot\n",
    "car.plot.scatter(x=\"kms_value\", y=\"car_prices_in_usd\")"
   ]
  },
  {
   "attachments": {},
   "cell_type": "markdown",
   "metadata": {},
   "source": [
    " But let's find the correlation values"
   ]
  },
  {
   "cell_type": "code",
   "execution_count": 228,
   "metadata": {},
   "outputs": [
    {
     "name": "stdout",
     "output_type": "stream",
     "text": [
      "Our plot show that is weak positive correlation between car prices and km. With the correlation values 0.054\n"
     ]
    }
   ],
   "source": [
    "print(f'Our plot show that is weak positive correlation between car prices and km. With the correlation values {scipy.stats.pearsonr(car[\"car_prices_in_usd\"], car[\"kms_value\"])[0].round(3)}')"
   ]
  },
  {
   "attachments": {},
   "cell_type": "markdown",
   "metadata": {},
   "source": [
    "This is happended because several data really have high price.\n",
    "So we will analysis data and exclude it"
   ]
  },
  {
   "cell_type": "code",
   "execution_count": 229,
   "metadata": {},
   "outputs": [
    {
     "data": {
      "text/html": [
       "<div>\n",
       "<style scoped>\n",
       "    .dataframe tbody tr th:only-of-type {\n",
       "        vertical-align: middle;\n",
       "    }\n",
       "\n",
       "    .dataframe tbody tr th {\n",
       "        vertical-align: top;\n",
       "    }\n",
       "\n",
       "    .dataframe thead th {\n",
       "        text-align: right;\n",
       "    }\n",
       "</style>\n",
       "<table border=\"1\" class=\"dataframe\">\n",
       "  <thead>\n",
       "    <tr style=\"text-align: right;\">\n",
       "      <th></th>\n",
       "      <th>car_prices_in_usd</th>\n",
       "      <th>kms_value</th>\n",
       "    </tr>\n",
       "  </thead>\n",
       "  <tbody>\n",
       "    <tr>\n",
       "      <th>count</th>\n",
       "      <td>5.512000e+03</td>\n",
       "      <td>5512.000000</td>\n",
       "    </tr>\n",
       "    <tr>\n",
       "      <th>mean</th>\n",
       "      <td>1.701122e+09</td>\n",
       "      <td>63211.888062</td>\n",
       "    </tr>\n",
       "    <tr>\n",
       "      <th>std</th>\n",
       "      <td>1.147131e+10</td>\n",
       "      <td>41844.131167</td>\n",
       "    </tr>\n",
       "    <tr>\n",
       "      <th>min</th>\n",
       "      <td>1.000000e+06</td>\n",
       "      <td>250.000000</td>\n",
       "    </tr>\n",
       "    <tr>\n",
       "      <th>25%</th>\n",
       "      <td>3.300000e+06</td>\n",
       "      <td>33151.750000</td>\n",
       "    </tr>\n",
       "    <tr>\n",
       "      <th>50%</th>\n",
       "      <td>5.750000e+06</td>\n",
       "      <td>59000.000000</td>\n",
       "    </tr>\n",
       "    <tr>\n",
       "      <th>75%</th>\n",
       "      <td>1.137000e+07</td>\n",
       "      <td>84265.250000</td>\n",
       "    </tr>\n",
       "    <tr>\n",
       "      <th>max</th>\n",
       "      <td>9.999900e+10</td>\n",
       "      <td>560000.000000</td>\n",
       "    </tr>\n",
       "  </tbody>\n",
       "</table>\n",
       "</div>"
      ],
      "text/plain": [
       "       car_prices_in_usd      kms_value\n",
       "count       5.512000e+03    5512.000000\n",
       "mean        1.701122e+09   63211.888062\n",
       "std         1.147131e+10   41844.131167\n",
       "min         1.000000e+06     250.000000\n",
       "25%         3.300000e+06   33151.750000\n",
       "50%         5.750000e+06   59000.000000\n",
       "75%         1.137000e+07   84265.250000\n",
       "max         9.999900e+10  560000.000000"
      ]
     },
     "execution_count": 229,
     "metadata": {},
     "output_type": "execute_result"
    }
   ],
   "source": [
    "# Using describe to see the distribution number\n",
    "car.describe()"
   ]
  },
  {
   "cell_type": "code",
   "execution_count": 23,
   "metadata": {},
   "outputs": [
    {
     "data": {
      "text/html": [
       "<div>\n",
       "<style scoped>\n",
       "    .dataframe tbody tr th:only-of-type {\n",
       "        vertical-align: middle;\n",
       "    }\n",
       "\n",
       "    .dataframe tbody tr th {\n",
       "        vertical-align: top;\n",
       "    }\n",
       "\n",
       "    .dataframe thead th {\n",
       "        text-align: right;\n",
       "    }\n",
       "</style>\n",
       "<table border=\"1\" class=\"dataframe\">\n",
       "  <thead>\n",
       "    <tr style=\"text-align: right;\">\n",
       "      <th></th>\n",
       "      <th>car_name</th>\n",
       "      <th>car_prices_in_usd</th>\n",
       "      <th>kms_driven</th>\n",
       "      <th>fuel_type</th>\n",
       "      <th>transmission</th>\n",
       "      <th>ownership</th>\n",
       "      <th>manufacture</th>\n",
       "      <th>engine</th>\n",
       "      <th>seats</th>\n",
       "      <th>brand</th>\n",
       "      <th>tier</th>\n",
       "      <th>kms_value</th>\n",
       "    </tr>\n",
       "  </thead>\n",
       "  <tbody>\n",
       "    <tr>\n",
       "      <th>15</th>\n",
       "      <td>Hyundai Grand i10 AT Asta</td>\n",
       "      <td>5630000</td>\n",
       "      <td>59,313 kms</td>\n",
       "      <td>Petrol</td>\n",
       "      <td>Automatic</td>\n",
       "      <td>2nd Owner</td>\n",
       "      <td>2016-01-01</td>\n",
       "      <td>1197 cc</td>\n",
       "      <td>5 Seats</td>\n",
       "      <td>Hyundai</td>\n",
       "      <td>top</td>\n",
       "      <td>59313</td>\n",
       "    </tr>\n",
       "    <tr>\n",
       "      <th>20</th>\n",
       "      <td>Maruti Swift Dzire VXI</td>\n",
       "      <td>4340000</td>\n",
       "      <td>56,568 kms</td>\n",
       "      <td>Petrol</td>\n",
       "      <td>Manual</td>\n",
       "      <td>1st Owner</td>\n",
       "      <td>2014-01-01</td>\n",
       "      <td>1197 cc</td>\n",
       "      <td>5 Seats</td>\n",
       "      <td>Maruti</td>\n",
       "      <td>top</td>\n",
       "      <td>56568</td>\n",
       "    </tr>\n",
       "    <tr>\n",
       "      <th>24</th>\n",
       "      <td>Hyundai Grand i10 1.2 Kappa Magna BSIV</td>\n",
       "      <td>5410000</td>\n",
       "      <td>21,239 kms</td>\n",
       "      <td>Petrol</td>\n",
       "      <td>Manual</td>\n",
       "      <td>1st Owner</td>\n",
       "      <td>2018-01-01</td>\n",
       "      <td>1197 cc</td>\n",
       "      <td>5 Seats</td>\n",
       "      <td>Hyundai</td>\n",
       "      <td>top</td>\n",
       "      <td>21239</td>\n",
       "    </tr>\n",
       "    <tr>\n",
       "      <th>32</th>\n",
       "      <td>Hyundai Grand i10 Sportz</td>\n",
       "      <td>4910000</td>\n",
       "      <td>35,424 kms</td>\n",
       "      <td>Petrol</td>\n",
       "      <td>Manual</td>\n",
       "      <td>1st Owner</td>\n",
       "      <td>2016-01-01</td>\n",
       "      <td>1197 cc</td>\n",
       "      <td>5 Seats</td>\n",
       "      <td>Hyundai</td>\n",
       "      <td>top</td>\n",
       "      <td>35424</td>\n",
       "    </tr>\n",
       "    <tr>\n",
       "      <th>79</th>\n",
       "      <td>Hyundai i20 Magna Optional 1.2</td>\n",
       "      <td>4650000</td>\n",
       "      <td>23,000 kms</td>\n",
       "      <td>Petrol</td>\n",
       "      <td>Manual</td>\n",
       "      <td>1st Owner</td>\n",
       "      <td>2014-01-01</td>\n",
       "      <td>1197 cc</td>\n",
       "      <td>5 Seats</td>\n",
       "      <td>Hyundai</td>\n",
       "      <td>top</td>\n",
       "      <td>23000</td>\n",
       "    </tr>\n",
       "    <tr>\n",
       "      <th>...</th>\n",
       "      <td>...</td>\n",
       "      <td>...</td>\n",
       "      <td>...</td>\n",
       "      <td>...</td>\n",
       "      <td>...</td>\n",
       "      <td>...</td>\n",
       "      <td>...</td>\n",
       "      <td>...</td>\n",
       "      <td>...</td>\n",
       "      <td>...</td>\n",
       "      <td>...</td>\n",
       "      <td>...</td>\n",
       "    </tr>\n",
       "    <tr>\n",
       "      <th>5359</th>\n",
       "      <td>Hyundai i20 Sportz 1.4 CRDi</td>\n",
       "      <td>3500000</td>\n",
       "      <td>90,000 kms</td>\n",
       "      <td>Diesel</td>\n",
       "      <td>Manual</td>\n",
       "      <td>1st Owner</td>\n",
       "      <td>2012-01-01</td>\n",
       "      <td>1197 cc</td>\n",
       "      <td>5 Seats</td>\n",
       "      <td>Hyundai</td>\n",
       "      <td>top</td>\n",
       "      <td>90000</td>\n",
       "    </tr>\n",
       "    <tr>\n",
       "      <th>5396</th>\n",
       "      <td>Maruti Ciaz ZDi</td>\n",
       "      <td>4500000</td>\n",
       "      <td>90,000 kms</td>\n",
       "      <td>Diesel</td>\n",
       "      <td>Manual</td>\n",
       "      <td>1st Owner</td>\n",
       "      <td>2014-01-01</td>\n",
       "      <td>1197 cc</td>\n",
       "      <td>5 Seats</td>\n",
       "      <td>Maruti</td>\n",
       "      <td>top</td>\n",
       "      <td>90000</td>\n",
       "    </tr>\n",
       "    <tr>\n",
       "      <th>5404</th>\n",
       "      <td>Hyundai Grand i10 Magna</td>\n",
       "      <td>3200000</td>\n",
       "      <td>40,000 kms</td>\n",
       "      <td>Petrol</td>\n",
       "      <td>Manual</td>\n",
       "      <td>1st Owner</td>\n",
       "      <td>2015-01-01</td>\n",
       "      <td>1197 cc</td>\n",
       "      <td>5 Seats</td>\n",
       "      <td>Hyundai</td>\n",
       "      <td>top</td>\n",
       "      <td>40000</td>\n",
       "    </tr>\n",
       "    <tr>\n",
       "      <th>5436</th>\n",
       "      <td>Maruti Alto K10 2010-2014 VXI</td>\n",
       "      <td>2450000</td>\n",
       "      <td>50,000 kms</td>\n",
       "      <td>Petrol</td>\n",
       "      <td>Manual</td>\n",
       "      <td>1st Owner</td>\n",
       "      <td>2012-01-01</td>\n",
       "      <td>1197 cc</td>\n",
       "      <td>5 Seats</td>\n",
       "      <td>Maruti</td>\n",
       "      <td>top</td>\n",
       "      <td>50000</td>\n",
       "    </tr>\n",
       "    <tr>\n",
       "      <th>5447</th>\n",
       "      <td>Maruti Swift Vdi BSIII</td>\n",
       "      <td>1900000</td>\n",
       "      <td>1,20,000 kms</td>\n",
       "      <td>Diesel</td>\n",
       "      <td>Manual</td>\n",
       "      <td>2nd Owner</td>\n",
       "      <td>2008-01-01</td>\n",
       "      <td>1197 cc</td>\n",
       "      <td>5 Seats</td>\n",
       "      <td>Maruti</td>\n",
       "      <td>top</td>\n",
       "      <td>120000</td>\n",
       "    </tr>\n",
       "  </tbody>\n",
       "</table>\n",
       "<p>366 rows × 12 columns</p>\n",
       "</div>"
      ],
      "text/plain": [
       "                                    car_name  car_prices_in_usd    kms_driven  \\\n",
       "15                 Hyundai Grand i10 AT Asta            5630000    59,313 kms   \n",
       "20                    Maruti Swift Dzire VXI            4340000    56,568 kms   \n",
       "24    Hyundai Grand i10 1.2 Kappa Magna BSIV            5410000    21,239 kms   \n",
       "32                  Hyundai Grand i10 Sportz            4910000    35,424 kms   \n",
       "79            Hyundai i20 Magna Optional 1.2            4650000    23,000 kms   \n",
       "...                                      ...                ...           ...   \n",
       "5359             Hyundai i20 Sportz 1.4 CRDi            3500000    90,000 kms   \n",
       "5396                         Maruti Ciaz ZDi            4500000    90,000 kms   \n",
       "5404                 Hyundai Grand i10 Magna            3200000    40,000 kms   \n",
       "5436           Maruti Alto K10 2010-2014 VXI            2450000    50,000 kms   \n",
       "5447                  Maruti Swift Vdi BSIII            1900000  1,20,000 kms   \n",
       "\n",
       "     fuel_type transmission  ownership manufacture   engine    seats    brand  \\\n",
       "15      Petrol    Automatic  2nd Owner  2016-01-01  1197 cc  5 Seats  Hyundai   \n",
       "20      Petrol       Manual  1st Owner  2014-01-01  1197 cc  5 Seats   Maruti   \n",
       "24      Petrol       Manual  1st Owner  2018-01-01  1197 cc  5 Seats  Hyundai   \n",
       "32      Petrol       Manual  1st Owner  2016-01-01  1197 cc  5 Seats  Hyundai   \n",
       "79      Petrol       Manual  1st Owner  2014-01-01  1197 cc  5 Seats  Hyundai   \n",
       "...        ...          ...        ...         ...      ...      ...      ...   \n",
       "5359    Diesel       Manual  1st Owner  2012-01-01  1197 cc  5 Seats  Hyundai   \n",
       "5396    Diesel       Manual  1st Owner  2014-01-01  1197 cc  5 Seats   Maruti   \n",
       "5404    Petrol       Manual  1st Owner  2015-01-01  1197 cc  5 Seats  Hyundai   \n",
       "5436    Petrol       Manual  1st Owner  2012-01-01  1197 cc  5 Seats   Maruti   \n",
       "5447    Diesel       Manual  2nd Owner  2008-01-01  1197 cc  5 Seats   Maruti   \n",
       "\n",
       "     tier  kms_value  \n",
       "15    top      59313  \n",
       "20    top      56568  \n",
       "24    top      21239  \n",
       "32    top      35424  \n",
       "79    top      23000  \n",
       "...   ...        ...  \n",
       "5359  top      90000  \n",
       "5396  top      90000  \n",
       "5404  top      40000  \n",
       "5436  top      50000  \n",
       "5447  top     120000  \n",
       "\n",
       "[366 rows x 12 columns]"
      ]
     },
     "execution_count": 23,
     "metadata": {},
     "output_type": "execute_result"
    }
   ],
   "source": [
    "mask = car.describe()[5:6][\"car_prices_in_usd\"].values[0] #Choose median to filter\n",
    "car_corr = car.query(\"car_prices_in_usd < @mask and engine == '1197 cc'\") # Filtering data based on criteria\n",
    "car_corr"
   ]
  },
  {
   "cell_type": "code",
   "execution_count": 230,
   "metadata": {},
   "outputs": [
    {
     "data": {
      "text/plain": [
       "-0.202"
      ]
     },
     "execution_count": 230,
     "metadata": {},
     "output_type": "execute_result"
    },
    {
     "data": {
      "image/png": "[encoded data removed]",
      "text/plain": [
       "<Figure size 640x480 with 1 Axes>"
      ]
     },
     "metadata": {},
     "output_type": "display_data"
    }
   ],
   "source": [
    "# Plotting\n",
    "car_corr.plot.scatter(x=\"kms_value\", y=\"car_prices_in_usd\")\n",
    "\n",
    "scipy.stats.pearsonr(car_corr[\"car_prices_in_usd\"], car_corr[\"kms_value\"])[0].round(3)"
   ]
  },
  {
   "attachments": {},
   "cell_type": "markdown",
   "metadata": {},
   "source": [
    "After we have done analysis we see there is not big impact, the correlation still weak but now it is positive."
   ]
  },
  {
   "cell_type": "markdown",
   "metadata": {},
   "source": [
    "4. Use linear regression to build a model that predicts the price of a car based on the other variables in the dataset."
   ]
  },
  {
   "cell_type": "code",
   "execution_count": 231,
   "metadata": {},
   "outputs": [],
   "source": [
    "# set independent and dependent variable\n",
    "x = car[[\"fuel_type\", \"transmission\", \"ownership\", \"seats\", \"brand\", \"tier\", \"kms_value\"]]\n",
    "x = pd.get_dummies(data=x, drop_first=True)\n",
    "y = car['car_prices_in_usd']"
   ]
  },
  {
   "cell_type": "code",
   "execution_count": 247,
   "metadata": {},
   "outputs": [
    {
     "name": "stdout",
     "output_type": "stream",
     "text": [
      "(3307, 48)\n",
      "(2205, 48)\n"
     ]
    }
   ],
   "source": [
    "# Creating a train and test dataset.\n",
    "\n",
    "from sklearn.model_selection import train_test_split\n",
    "X_train, X_test, y_train, y_test = train_test_split(x, y, test_size=0.4, random_state=22)\n",
    "print(X_train.shape)\n",
    "print(X_test.shape)"
   ]
  },
  {
   "cell_type": "markdown",
   "metadata": {},
   "source": [
    "After splitting the dataset into a test and train we will be importing the Linear Regression model."
   ]
  },
  {
   "cell_type": "code",
   "execution_count": 248,
   "metadata": {},
   "outputs": [
    {
     "data": {
      "text/html": [
       "<style>#sk-container-id-11 {color: black;background-color: white;}#sk-container-id-11 pre{padding: 0;}#sk-container-id-11 div.sk-toggleable {background-color: white;}#sk-container-id-11 label.sk-toggleable__label {cursor: pointer;display: block;width: 100%;margin-bottom: 0;padding: 0.3em;box-sizing: border-box;text-align: center;}#sk-container-id-11 label.sk-toggleable__label-arrow:before {content: \"▸\";float: left;margin-right: 0.25em;color: #696969;}#sk-container-id-11 label.sk-toggleable__label-arrow:hover:before {color: black;}#sk-container-id-11 div.sk-estimator:hover label.sk-toggleable__label-arrow:before {color: black;}#sk-container-id-11 div.sk-toggleable__content {max-height: 0;max-width: 0;overflow: hidden;text-align: left;background-color: #f0f8ff;}#sk-container-id-11 div.sk-toggleable__content pre {margin: 0.2em;color: black;border-radius: 0.25em;background-color: #f0f8ff;}#sk-container-id-11 input.sk-toggleable__control:checked~div.sk-toggleable__content {max-height: 200px;max-width: 100%;overflow: auto;}#sk-container-id-11 input.sk-toggleable__control:checked~label.sk-toggleable__label-arrow:before {content: \"▾\";}#sk-container-id-11 div.sk-estimator input.sk-toggleable__control:checked~label.sk-toggleable__label {background-color: #d4ebff;}#sk-container-id-11 div.sk-label input.sk-toggleable__control:checked~label.sk-toggleable__label {background-color: #d4ebff;}#sk-container-id-11 input.sk-hidden--visually {border: 0;clip: rect(1px 1px 1px 1px);clip: rect(1px, 1px, 1px, 1px);height: 1px;margin: -1px;overflow: hidden;padding: 0;position: absolute;width: 1px;}#sk-container-id-11 div.sk-estimator {font-family: monospace;background-color: #f0f8ff;border: 1px dotted black;border-radius: 0.25em;box-sizing: border-box;margin-bottom: 0.5em;}#sk-container-id-11 div.sk-estimator:hover {background-color: #d4ebff;}#sk-container-id-11 div.sk-parallel-item::after {content: \"\";width: 100%;border-bottom: 1px solid gray;flex-grow: 1;}#sk-container-id-11 div.sk-label:hover label.sk-toggleable__label {background-color: #d4ebff;}#sk-container-id-11 div.sk-serial::before {content: \"\";position: absolute;border-left: 1px solid gray;box-sizing: border-box;top: 0;bottom: 0;left: 50%;z-index: 0;}#sk-container-id-11 div.sk-serial {display: flex;flex-direction: column;align-items: center;background-color: white;padding-right: 0.2em;padding-left: 0.2em;position: relative;}#sk-container-id-11 div.sk-item {position: relative;z-index: 1;}#sk-container-id-11 div.sk-parallel {display: flex;align-items: stretch;justify-content: center;background-color: white;position: relative;}#sk-container-id-11 div.sk-item::before, #sk-container-id-11 div.sk-parallel-item::before {content: \"\";position: absolute;border-left: 1px solid gray;box-sizing: border-box;top: 0;bottom: 0;left: 50%;z-index: -1;}#sk-container-id-11 div.sk-parallel-item {display: flex;flex-direction: column;z-index: 1;position: relative;background-color: white;}#sk-container-id-11 div.sk-parallel-item:first-child::after {align-self: flex-end;width: 50%;}#sk-container-id-11 div.sk-parallel-item:last-child::after {align-self: flex-start;width: 50%;}#sk-container-id-11 div.sk-parallel-item:only-child::after {width: 0;}#sk-container-id-11 div.sk-dashed-wrapped {border: 1px dashed gray;margin: 0 0.4em 0.5em 0.4em;box-sizing: border-box;padding-bottom: 0.4em;background-color: white;}#sk-container-id-11 div.sk-label label {font-family: monospace;font-weight: bold;display: inline-block;line-height: 1.2em;}#sk-container-id-11 div.sk-label-container {text-align: center;}#sk-container-id-11 div.sk-container {/* jupyter's `normalize.less` sets `[hidden] { display: none; }` but bootstrap.min.css set `[hidden] { display: none !important; }` so we also need the `!important` here to be able to override the default hidden behavior on the sphinx rendered scikit-learn.org. See: https://github.com/scikit-learn/scikit-learn/issues/21755 */display: inline-block !important;position: relative;}#sk-container-id-11 div.sk-text-repr-fallback {display: none;}</style><div id=\"sk-container-id-11\" class=\"sk-top-container\"><div class=\"sk-text-repr-fallback\"><pre>LinearRegression()</pre><b>In a Jupyter environment, please rerun this cell to show the HTML representation or trust the notebook. <br />On GitHub, the HTML representation is unable to render, please try loading this page with nbviewer.org.</b></div><div class=\"sk-container\" hidden><div class=\"sk-item\"><div class=\"sk-estimator sk-toggleable\"><input class=\"sk-toggleable__control sk-hidden--visually\" id=\"sk-estimator-id-11\" type=\"checkbox\" checked><label for=\"sk-estimator-id-11\" class=\"sk-toggleable__label sk-toggleable__label-arrow\">LinearRegression</label><div class=\"sk-toggleable__content\"><pre>LinearRegression()</pre></div></div></div></div></div>"
      ],
      "text/plain": [
       "LinearRegression()"
      ]
     },
     "execution_count": 248,
     "metadata": {},
     "output_type": "execute_result"
    }
   ],
   "source": [
    "from sklearn.linear_model import LinearRegression\n",
    "model = LinearRegression()\n",
    "model.fit(X_train, y_train)"
   ]
  },
  {
   "cell_type": "code",
   "execution_count": 249,
   "metadata": {},
   "outputs": [
    {
     "name": "stdout",
     "output_type": "stream",
     "text": [
      "-5581630663.309208\n"
     ]
    }
   ],
   "source": [
    "# print the intercept\n",
    "print(model.intercept_)"
   ]
  },
  {
   "cell_type": "code",
   "execution_count": 250,
   "metadata": {},
   "outputs": [
    {
     "data": {
      "text/html": [
       "<div>\n",
       "<style scoped>\n",
       "    .dataframe tbody tr th:only-of-type {\n",
       "        vertical-align: middle;\n",
       "    }\n",
       "\n",
       "    .dataframe tbody tr th {\n",
       "        vertical-align: top;\n",
       "    }\n",
       "\n",
       "    .dataframe thead th {\n",
       "        text-align: right;\n",
       "    }\n",
       "</style>\n",
       "<table border=\"1\" class=\"dataframe\">\n",
       "  <thead>\n",
       "    <tr style=\"text-align: right;\">\n",
       "      <th></th>\n",
       "      <th>Coefficient</th>\n",
       "    </tr>\n",
       "  </thead>\n",
       "  <tbody>\n",
       "    <tr>\n",
       "      <th>kms_value</th>\n",
       "      <td>1.105377e+04</td>\n",
       "    </tr>\n",
       "    <tr>\n",
       "      <th>fuel_type_Diesel</th>\n",
       "      <td>1.591531e+09</td>\n",
       "    </tr>\n",
       "    <tr>\n",
       "      <th>fuel_type_Electric</th>\n",
       "      <td>1.420853e+09</td>\n",
       "    </tr>\n",
       "    <tr>\n",
       "      <th>fuel_type_Lpg</th>\n",
       "      <td>4.917897e+09</td>\n",
       "    </tr>\n",
       "    <tr>\n",
       "      <th>fuel_type_Petrol</th>\n",
       "      <td>4.841113e+09</td>\n",
       "    </tr>\n",
       "    <tr>\n",
       "      <th>transmission_Manual</th>\n",
       "      <td>1.077192e+09</td>\n",
       "    </tr>\n",
       "    <tr>\n",
       "      <th>ownership_1st Owner</th>\n",
       "      <td>-5.341767e+08</td>\n",
       "    </tr>\n",
       "    <tr>\n",
       "      <th>ownership_2nd Owner</th>\n",
       "      <td>1.853340e+09</td>\n",
       "    </tr>\n",
       "    <tr>\n",
       "      <th>ownership_3rd Owner</th>\n",
       "      <td>3.428529e+09</td>\n",
       "    </tr>\n",
       "    <tr>\n",
       "      <th>ownership_4th Owner</th>\n",
       "      <td>1.116011e+10</td>\n",
       "    </tr>\n",
       "    <tr>\n",
       "      <th>ownership_5th Owner</th>\n",
       "      <td>2.135522e+10</td>\n",
       "    </tr>\n",
       "    <tr>\n",
       "      <th>seats_4 Seats</th>\n",
       "      <td>4.038710e+09</td>\n",
       "    </tr>\n",
       "    <tr>\n",
       "      <th>seats_5 Seats</th>\n",
       "      <td>1.975021e+09</td>\n",
       "    </tr>\n",
       "    <tr>\n",
       "      <th>seats_6 Seats</th>\n",
       "      <td>2.804183e+08</td>\n",
       "    </tr>\n",
       "    <tr>\n",
       "      <th>seats_7 Seats</th>\n",
       "      <td>1.417437e+09</td>\n",
       "    </tr>\n",
       "    <tr>\n",
       "      <th>seats_8 Seats</th>\n",
       "      <td>4.652556e+09</td>\n",
       "    </tr>\n",
       "    <tr>\n",
       "      <th>brand_BMW</th>\n",
       "      <td>4.894837e+08</td>\n",
       "    </tr>\n",
       "    <tr>\n",
       "      <th>brand_Bentley</th>\n",
       "      <td>-4.768372e-06</td>\n",
       "    </tr>\n",
       "    <tr>\n",
       "      <th>brand_Chevrolet</th>\n",
       "      <td>9.187228e+09</td>\n",
       "    </tr>\n",
       "    <tr>\n",
       "      <th>brand_Datsun</th>\n",
       "      <td>-3.161372e+09</td>\n",
       "    </tr>\n",
       "    <tr>\n",
       "      <th>brand_Fiat</th>\n",
       "      <td>3.216839e+09</td>\n",
       "    </tr>\n",
       "    <tr>\n",
       "      <th>brand_Force</th>\n",
       "      <td>-7.355522e+08</td>\n",
       "    </tr>\n",
       "    <tr>\n",
       "      <th>brand_Ford</th>\n",
       "      <td>1.723037e+09</td>\n",
       "    </tr>\n",
       "    <tr>\n",
       "      <th>brand_Honda</th>\n",
       "      <td>-2.650919e+09</td>\n",
       "    </tr>\n",
       "    <tr>\n",
       "      <th>brand_Hyundai</th>\n",
       "      <td>-4.499807e+08</td>\n",
       "    </tr>\n",
       "    <tr>\n",
       "      <th>brand_Isuzu</th>\n",
       "      <td>-1.162891e+09</td>\n",
       "    </tr>\n",
       "    <tr>\n",
       "      <th>brand_Jaguar</th>\n",
       "      <td>4.821454e+08</td>\n",
       "    </tr>\n",
       "    <tr>\n",
       "      <th>brand_Jeep</th>\n",
       "      <td>8.180225e+07</td>\n",
       "    </tr>\n",
       "    <tr>\n",
       "      <th>brand_Kia</th>\n",
       "      <td>-5.200999e+08</td>\n",
       "    </tr>\n",
       "    <tr>\n",
       "      <th>brand_Land</th>\n",
       "      <td>3.950194e+08</td>\n",
       "    </tr>\n",
       "    <tr>\n",
       "      <th>brand_Lexus</th>\n",
       "      <td>-1.402633e+09</td>\n",
       "    </tr>\n",
       "    <tr>\n",
       "      <th>brand_MG</th>\n",
       "      <td>-5.757369e+08</td>\n",
       "    </tr>\n",
       "    <tr>\n",
       "      <th>brand_Mahindra</th>\n",
       "      <td>-7.415757e+08</td>\n",
       "    </tr>\n",
       "    <tr>\n",
       "      <th>brand_Maruti</th>\n",
       "      <td>8.607601e+08</td>\n",
       "    </tr>\n",
       "    <tr>\n",
       "      <th>brand_Maserati</th>\n",
       "      <td>2.482610e+09</td>\n",
       "    </tr>\n",
       "    <tr>\n",
       "      <th>brand_Mercedes-Benz</th>\n",
       "      <td>3.153192e+08</td>\n",
       "    </tr>\n",
       "    <tr>\n",
       "      <th>brand_Mini</th>\n",
       "      <td>-2.084180e+09</td>\n",
       "    </tr>\n",
       "    <tr>\n",
       "      <th>brand_Mitsubishi</th>\n",
       "      <td>3.186462e+08</td>\n",
       "    </tr>\n",
       "    <tr>\n",
       "      <th>brand_Nissan</th>\n",
       "      <td>-1.959995e+09</td>\n",
       "    </tr>\n",
       "    <tr>\n",
       "      <th>brand_Porsche</th>\n",
       "      <td>5.723759e+08</td>\n",
       "    </tr>\n",
       "    <tr>\n",
       "      <th>brand_Premier</th>\n",
       "      <td>9.536743e-07</td>\n",
       "    </tr>\n",
       "    <tr>\n",
       "      <th>brand_Renault</th>\n",
       "      <td>-1.427250e+09</td>\n",
       "    </tr>\n",
       "    <tr>\n",
       "      <th>brand_Skoda</th>\n",
       "      <td>-1.607384e+09</td>\n",
       "    </tr>\n",
       "    <tr>\n",
       "      <th>brand_Tata</th>\n",
       "      <td>5.668139e+09</td>\n",
       "    </tr>\n",
       "    <tr>\n",
       "      <th>brand_Toyota</th>\n",
       "      <td>-1.382255e+09</td>\n",
       "    </tr>\n",
       "    <tr>\n",
       "      <th>brand_Volkswagen</th>\n",
       "      <td>-2.050137e+09</td>\n",
       "    </tr>\n",
       "    <tr>\n",
       "      <th>brand_Volvo</th>\n",
       "      <td>1.485236e+09</td>\n",
       "    </tr>\n",
       "    <tr>\n",
       "      <th>tier_top</th>\n",
       "      <td>3.205418e+07</td>\n",
       "    </tr>\n",
       "  </tbody>\n",
       "</table>\n",
       "</div>"
      ],
      "text/plain": [
       "                      Coefficient\n",
       "kms_value            1.105377e+04\n",
       "fuel_type_Diesel     1.591531e+09\n",
       "fuel_type_Electric   1.420853e+09\n",
       "fuel_type_Lpg        4.917897e+09\n",
       "fuel_type_Petrol     4.841113e+09\n",
       "transmission_Manual  1.077192e+09\n",
       "ownership_1st Owner -5.341767e+08\n",
       "ownership_2nd Owner  1.853340e+09\n",
       "ownership_3rd Owner  3.428529e+09\n",
       "ownership_4th Owner  1.116011e+10\n",
       "ownership_5th Owner  2.135522e+10\n",
       "seats_4 Seats        4.038710e+09\n",
       "seats_5 Seats        1.975021e+09\n",
       "seats_6 Seats        2.804183e+08\n",
       "seats_7 Seats        1.417437e+09\n",
       "seats_8 Seats        4.652556e+09\n",
       "brand_BMW            4.894837e+08\n",
       "brand_Bentley       -4.768372e-06\n",
       "brand_Chevrolet      9.187228e+09\n",
       "brand_Datsun        -3.161372e+09\n",
       "brand_Fiat           3.216839e+09\n",
       "brand_Force         -7.355522e+08\n",
       "brand_Ford           1.723037e+09\n",
       "brand_Honda         -2.650919e+09\n",
       "brand_Hyundai       -4.499807e+08\n",
       "brand_Isuzu         -1.162891e+09\n",
       "brand_Jaguar         4.821454e+08\n",
       "brand_Jeep           8.180225e+07\n",
       "brand_Kia           -5.200999e+08\n",
       "brand_Land           3.950194e+08\n",
       "brand_Lexus         -1.402633e+09\n",
       "brand_MG            -5.757369e+08\n",
       "brand_Mahindra      -7.415757e+08\n",
       "brand_Maruti         8.607601e+08\n",
       "brand_Maserati       2.482610e+09\n",
       "brand_Mercedes-Benz  3.153192e+08\n",
       "brand_Mini          -2.084180e+09\n",
       "brand_Mitsubishi     3.186462e+08\n",
       "brand_Nissan        -1.959995e+09\n",
       "brand_Porsche        5.723759e+08\n",
       "brand_Premier        9.536743e-07\n",
       "brand_Renault       -1.427250e+09\n",
       "brand_Skoda         -1.607384e+09\n",
       "brand_Tata           5.668139e+09\n",
       "brand_Toyota        -1.382255e+09\n",
       "brand_Volkswagen    -2.050137e+09\n",
       "brand_Volvo          1.485236e+09\n",
       "tier_top             3.205418e+07"
      ]
     },
     "execution_count": 250,
     "metadata": {},
     "output_type": "execute_result"
    }
   ],
   "source": [
    "# Check the coefficient\n",
    "coeff_parameter = pd.DataFrame(model.coef_,x.columns,columns=['Coefficient'])\n",
    "coeff_parameter"
   ]
  },
  {
   "cell_type": "code",
   "execution_count": 251,
   "metadata": {},
   "outputs": [
    {
     "data": {
      "text/plain": [
       "array([-2.11348435e+09,  1.07281842e+10,  2.83613955e+09, ...,\n",
       "        8.24058273e+08, -2.08788115e+09,  1.46523495e+09])"
      ]
     },
     "execution_count": 251,
     "metadata": {},
     "output_type": "execute_result"
    }
   ],
   "source": [
    "predictions = model.predict(X_test)\n",
    "predictions"
   ]
  },
  {
   "cell_type": "code",
   "execution_count": 252,
   "metadata": {},
   "outputs": [
    {
     "data": {
      "text/plain": [
       "<AxesSubplot: xlabel='car_prices_in_usd'>"
      ]
     },
     "execution_count": 252,
     "metadata": {},
     "output_type": "execute_result"
    },
    {
     "data": {
      "image/png": "[encoded data removed]",
      "text/plain": [
       "<Figure size 640x480 with 1 Axes>"
      ]
     },
     "metadata": {},
     "output_type": "display_data"
    }
   ],
   "source": [
    "sns.regplot(x = y_test, y = predictions)"
   ]
  },
  {
   "cell_type": "code",
   "execution_count": 253,
   "metadata": {},
   "outputs": [
    {
     "name": "stdout",
     "output_type": "stream",
     "text": [
      "                            OLS Regression Results                            \n",
      "==============================================================================\n",
      "Dep. Variable:      car_prices_in_usd   R-squared:                       0.083\n",
      "Model:                            OLS   Adj. R-squared:                  0.070\n",
      "Method:                 Least Squares   F-statistic:                     6.556\n",
      "Date:                Thu, 26 Jan 2023   Prob (F-statistic):           1.76e-36\n",
      "Time:                        21:28:00   Log-Likelihood:                -81304.\n",
      "No. Observations:                3307   AIC:                         1.627e+05\n",
      "Df Residuals:                    3261   BIC:                         1.630e+05\n",
      "Df Model:                          45                                         \n",
      "Covariance Type:            nonrobust                                         \n",
      "=======================================================================================\n",
      "                          coef    std err          t      P>|t|      [0.025      0.975]\n",
      "---------------------------------------------------------------------------------------\n",
      "const               -5.233e+09   9.21e+09     -0.568      0.570   -2.33e+10    1.28e+10\n",
      "kms_value            1.105e+04   5740.649      1.926      0.054    -201.868    2.23e+04\n",
      "fuel_type_Diesel     1.592e+09   1.71e+09      0.928      0.353   -1.77e+09    4.95e+09\n",
      "fuel_type_Electric   1.421e+09   4.13e+09      0.344      0.731   -6.67e+09    9.51e+09\n",
      "fuel_type_Lpg        4.918e+09   3.36e+09      1.464      0.143   -1.67e+09    1.15e+10\n",
      "fuel_type_Petrol     4.841e+09   1.69e+09      2.868      0.004    1.53e+09    8.15e+09\n",
      "transmission_Manual  1.077e+09   6.46e+08      1.667      0.096    -1.9e+08    2.34e+09\n",
      "ownership_1st Owner -5.342e+08    4.8e+09     -0.111      0.911   -9.95e+09    8.88e+09\n",
      "ownership_2nd Owner  1.853e+09   4.82e+09      0.385      0.700   -7.59e+09    1.13e+10\n",
      "ownership_3rd Owner  3.429e+09   4.87e+09      0.704      0.481   -6.11e+09     1.3e+10\n",
      "ownership_4th Owner  1.116e+10   5.11e+09      2.185      0.029    1.15e+09    2.12e+10\n",
      "ownership_5th Owner  2.136e+10   6.34e+09      3.367      0.001    8.92e+09    3.38e+10\n",
      "seats_4 Seats        4.039e+09   8.49e+09      0.476      0.634   -1.26e+10    2.07e+10\n",
      "seats_5 Seats        1.975e+09   8.34e+09      0.237      0.813   -1.44e+10    1.83e+10\n",
      "seats_6 Seats        2.804e+08    8.5e+09      0.033      0.974   -1.64e+10    1.69e+10\n",
      "seats_7 Seats        1.417e+09   8.36e+09      0.170      0.865    -1.5e+10    1.78e+10\n",
      "seats_8 Seats        4.653e+09    8.6e+09      0.541      0.588   -1.22e+10    2.15e+10\n",
      "brand_BMW            4.895e+08    1.6e+09      0.307      0.759   -2.64e+09    3.62e+09\n",
      "brand_Bentley       -5.419e-06   1.56e-05     -0.347      0.729   -3.61e-05    2.52e-05\n",
      "brand_Chevrolet      9.187e+09   2.09e+09      4.404      0.000     5.1e+09    1.33e+10\n",
      "brand_Datsun         -3.51e+09   3.01e+09     -1.168      0.243    -9.4e+09    2.38e+09\n",
      "brand_Fiat           2.868e+09   3.45e+09      0.831      0.406    -3.9e+09    9.63e+09\n",
      "brand_Force         -1.084e+09    1.1e+10     -0.099      0.921   -2.26e+10    2.04e+10\n",
      "brand_Ford           1.723e+09   1.68e+09      1.024      0.306   -1.57e+09    5.02e+09\n",
      "brand_Honda         -2.651e+09   1.47e+09     -1.800      0.072   -5.54e+09    2.37e+08\n",
      "brand_Hyundai         -4.5e+08   1.39e+09     -0.323      0.746   -3.18e+09    2.28e+09\n",
      "brand_Isuzu         -1.512e+09   7.81e+09     -0.194      0.847   -1.68e+10    1.38e+10\n",
      "brand_Jaguar         1.333e+08      3e+09      0.044      0.965   -5.74e+09    6.01e+09\n",
      "brand_Jeep           -2.67e+08   2.55e+09     -0.105      0.916   -5.26e+09    4.72e+09\n",
      "brand_Kia            -8.69e+08   2.23e+09     -0.390      0.697   -5.24e+09     3.5e+09\n",
      "brand_Land           4.617e+07   2.58e+09      0.018      0.986   -5.01e+09     5.1e+09\n",
      "brand_Lexus         -1.751e+09   5.06e+09     -0.346      0.729   -1.17e+10    8.18e+09\n",
      "brand_MG            -5.757e+08   2.15e+09     -0.268      0.789   -4.79e+09    3.64e+09\n",
      "brand_Mahindra      -7.416e+08   1.55e+09     -0.477      0.633   -3.79e+09    2.31e+09\n",
      "brand_Maruti         8.608e+08   1.39e+09      0.619      0.536   -1.87e+09    3.59e+09\n",
      "brand_Maserati       2.134e+09   5.06e+09      0.422      0.673   -7.78e+09     1.2e+10\n",
      "brand_Mercedes-Benz  3.153e+08   1.45e+09      0.217      0.828   -2.53e+09    3.16e+09\n",
      "brand_Mini          -2.433e+09   3.89e+09     -0.625      0.532   -1.01e+10     5.2e+09\n",
      "brand_Mitsubishi    -3.021e+07   5.61e+09     -0.005      0.996    -1.1e+10     1.1e+10\n",
      "brand_Nissan         -1.96e+09   2.29e+09     -0.856      0.392   -6.45e+09    2.53e+09\n",
      "brand_Porsche        2.235e+08   4.64e+09      0.048      0.962   -8.88e+09    9.33e+09\n",
      "brand_Premier        1.347e-07   2.34e-06      0.057      0.954   -4.46e-06    4.73e-06\n",
      "brand_Renault       -1.427e+09    1.7e+09     -0.840      0.401   -4.76e+09     1.9e+09\n",
      "brand_Skoda         -1.607e+09   1.94e+09     -0.827      0.408   -5.42e+09     2.2e+09\n",
      "brand_Tata           5.668e+09   1.57e+09      3.604      0.000    2.58e+09    8.75e+09\n",
      "brand_Toyota        -1.382e+09   1.53e+09     -0.902      0.367   -4.39e+09    1.62e+09\n",
      "brand_Volkswagen     -2.05e+09   1.73e+09     -1.184      0.236   -5.44e+09    1.34e+09\n",
      "brand_Volvo          1.136e+09   2.85e+09      0.398      0.690   -4.46e+09    6.73e+09\n",
      "tier_top            -3.168e+08   1.75e+09     -0.181      0.856   -3.74e+09    3.11e+09\n",
      "==============================================================================\n",
      "Omnibus:                     3681.496   Durbin-Watson:                   1.978\n",
      "Prob(Omnibus):                  0.000   Jarque-Bera (JB):           216782.037\n",
      "Skew:                           5.891   Prob(JB):                         0.00\n",
      "Kurtosis:                      40.874   Cond. No.                     1.20e+16\n",
      "==============================================================================\n",
      "\n",
      "Notes:\n",
      "[1] Standard Errors assume that the covariance matrix of the errors is correctly specified.\n",
      "[2] The smallest eigenvalue is 1.29e-19. This might indicate that there are\n",
      "strong multicollinearity problems or that the design matrix is singular.\n"
     ]
    }
   ],
   "source": [
    "import statsmodels.api as sm\n",
    "X_train_Sm= sm.add_constant(X_train)\n",
    "X_train_Sm= sm.add_constant(X_train)\n",
    "ls=sm.OLS(y_train,X_train_Sm).fit()\n",
    "print(ls.summary())"
   ]
  },
  {
   "cell_type": "markdown",
   "metadata": {},
   "source": [
    "5. Present the results of your linear regression model, including the coefficients of the variables and any relevant statistical tests. You may also include a plot showing the fitted line and the residuals to visualize the model's fit to the data."
   ]
  },
  {
   "attachments": {},
   "cell_type": "markdown",
   "metadata": {},
   "source": [
    "Minus **coefficients** meaning that variable will substract our prediction value, for example if it is 1st owner ship than the predict values will decrease -5.341e+09 and if 2nd the predict values will increase 1.85e+09\n",
    "\n",
    "Also from data above we get R-squared 0.083, that means this model not realible to predict car prices."
   ]
  },
  {
   "cell_type": "code",
   "execution_count": 254,
   "metadata": {},
   "outputs": [
    {
     "data": {
      "text/html": [
       "<div>\n",
       "<style scoped>\n",
       "    .dataframe tbody tr th:only-of-type {\n",
       "        vertical-align: middle;\n",
       "    }\n",
       "\n",
       "    .dataframe tbody tr th {\n",
       "        vertical-align: top;\n",
       "    }\n",
       "\n",
       "    .dataframe thead th {\n",
       "        text-align: right;\n",
       "    }\n",
       "</style>\n",
       "<table border=\"1\" class=\"dataframe\">\n",
       "  <thead>\n",
       "    <tr style=\"text-align: right;\">\n",
       "      <th></th>\n",
       "      <th>Coefficient</th>\n",
       "    </tr>\n",
       "  </thead>\n",
       "  <tbody>\n",
       "    <tr>\n",
       "      <th>kms_value</th>\n",
       "      <td>1.105377e+04</td>\n",
       "    </tr>\n",
       "    <tr>\n",
       "      <th>fuel_type_Diesel</th>\n",
       "      <td>1.591531e+09</td>\n",
       "    </tr>\n",
       "    <tr>\n",
       "      <th>fuel_type_Electric</th>\n",
       "      <td>1.420853e+09</td>\n",
       "    </tr>\n",
       "    <tr>\n",
       "      <th>fuel_type_Lpg</th>\n",
       "      <td>4.917897e+09</td>\n",
       "    </tr>\n",
       "    <tr>\n",
       "      <th>fuel_type_Petrol</th>\n",
       "      <td>4.841113e+09</td>\n",
       "    </tr>\n",
       "    <tr>\n",
       "      <th>transmission_Manual</th>\n",
       "      <td>1.077192e+09</td>\n",
       "    </tr>\n",
       "    <tr>\n",
       "      <th>ownership_1st Owner</th>\n",
       "      <td>-5.341767e+08</td>\n",
       "    </tr>\n",
       "    <tr>\n",
       "      <th>ownership_2nd Owner</th>\n",
       "      <td>1.853340e+09</td>\n",
       "    </tr>\n",
       "    <tr>\n",
       "      <th>ownership_3rd Owner</th>\n",
       "      <td>3.428529e+09</td>\n",
       "    </tr>\n",
       "    <tr>\n",
       "      <th>ownership_4th Owner</th>\n",
       "      <td>1.116011e+10</td>\n",
       "    </tr>\n",
       "    <tr>\n",
       "      <th>ownership_5th Owner</th>\n",
       "      <td>2.135522e+10</td>\n",
       "    </tr>\n",
       "    <tr>\n",
       "      <th>seats_4 Seats</th>\n",
       "      <td>4.038710e+09</td>\n",
       "    </tr>\n",
       "    <tr>\n",
       "      <th>seats_5 Seats</th>\n",
       "      <td>1.975021e+09</td>\n",
       "    </tr>\n",
       "    <tr>\n",
       "      <th>seats_6 Seats</th>\n",
       "      <td>2.804183e+08</td>\n",
       "    </tr>\n",
       "    <tr>\n",
       "      <th>seats_7 Seats</th>\n",
       "      <td>1.417437e+09</td>\n",
       "    </tr>\n",
       "    <tr>\n",
       "      <th>seats_8 Seats</th>\n",
       "      <td>4.652556e+09</td>\n",
       "    </tr>\n",
       "    <tr>\n",
       "      <th>brand_BMW</th>\n",
       "      <td>4.894837e+08</td>\n",
       "    </tr>\n",
       "    <tr>\n",
       "      <th>brand_Bentley</th>\n",
       "      <td>-4.768372e-06</td>\n",
       "    </tr>\n",
       "    <tr>\n",
       "      <th>brand_Chevrolet</th>\n",
       "      <td>9.187228e+09</td>\n",
       "    </tr>\n",
       "    <tr>\n",
       "      <th>brand_Datsun</th>\n",
       "      <td>-3.161372e+09</td>\n",
       "    </tr>\n",
       "    <tr>\n",
       "      <th>brand_Fiat</th>\n",
       "      <td>3.216839e+09</td>\n",
       "    </tr>\n",
       "    <tr>\n",
       "      <th>brand_Force</th>\n",
       "      <td>-7.355522e+08</td>\n",
       "    </tr>\n",
       "    <tr>\n",
       "      <th>brand_Ford</th>\n",
       "      <td>1.723037e+09</td>\n",
       "    </tr>\n",
       "    <tr>\n",
       "      <th>brand_Honda</th>\n",
       "      <td>-2.650919e+09</td>\n",
       "    </tr>\n",
       "    <tr>\n",
       "      <th>brand_Hyundai</th>\n",
       "      <td>-4.499807e+08</td>\n",
       "    </tr>\n",
       "    <tr>\n",
       "      <th>brand_Isuzu</th>\n",
       "      <td>-1.162891e+09</td>\n",
       "    </tr>\n",
       "    <tr>\n",
       "      <th>brand_Jaguar</th>\n",
       "      <td>4.821454e+08</td>\n",
       "    </tr>\n",
       "    <tr>\n",
       "      <th>brand_Jeep</th>\n",
       "      <td>8.180225e+07</td>\n",
       "    </tr>\n",
       "    <tr>\n",
       "      <th>brand_Kia</th>\n",
       "      <td>-5.200999e+08</td>\n",
       "    </tr>\n",
       "    <tr>\n",
       "      <th>brand_Land</th>\n",
       "      <td>3.950194e+08</td>\n",
       "    </tr>\n",
       "    <tr>\n",
       "      <th>brand_Lexus</th>\n",
       "      <td>-1.402633e+09</td>\n",
       "    </tr>\n",
       "    <tr>\n",
       "      <th>brand_MG</th>\n",
       "      <td>-5.757369e+08</td>\n",
       "    </tr>\n",
       "    <tr>\n",
       "      <th>brand_Mahindra</th>\n",
       "      <td>-7.415757e+08</td>\n",
       "    </tr>\n",
       "    <tr>\n",
       "      <th>brand_Maruti</th>\n",
       "      <td>8.607601e+08</td>\n",
       "    </tr>\n",
       "    <tr>\n",
       "      <th>brand_Maserati</th>\n",
       "      <td>2.482610e+09</td>\n",
       "    </tr>\n",
       "    <tr>\n",
       "      <th>brand_Mercedes-Benz</th>\n",
       "      <td>3.153192e+08</td>\n",
       "    </tr>\n",
       "    <tr>\n",
       "      <th>brand_Mini</th>\n",
       "      <td>-2.084180e+09</td>\n",
       "    </tr>\n",
       "    <tr>\n",
       "      <th>brand_Mitsubishi</th>\n",
       "      <td>3.186462e+08</td>\n",
       "    </tr>\n",
       "    <tr>\n",
       "      <th>brand_Nissan</th>\n",
       "      <td>-1.959995e+09</td>\n",
       "    </tr>\n",
       "    <tr>\n",
       "      <th>brand_Porsche</th>\n",
       "      <td>5.723759e+08</td>\n",
       "    </tr>\n",
       "    <tr>\n",
       "      <th>brand_Premier</th>\n",
       "      <td>9.536743e-07</td>\n",
       "    </tr>\n",
       "    <tr>\n",
       "      <th>brand_Renault</th>\n",
       "      <td>-1.427250e+09</td>\n",
       "    </tr>\n",
       "    <tr>\n",
       "      <th>brand_Skoda</th>\n",
       "      <td>-1.607384e+09</td>\n",
       "    </tr>\n",
       "    <tr>\n",
       "      <th>brand_Tata</th>\n",
       "      <td>5.668139e+09</td>\n",
       "    </tr>\n",
       "    <tr>\n",
       "      <th>brand_Toyota</th>\n",
       "      <td>-1.382255e+09</td>\n",
       "    </tr>\n",
       "    <tr>\n",
       "      <th>brand_Volkswagen</th>\n",
       "      <td>-2.050137e+09</td>\n",
       "    </tr>\n",
       "    <tr>\n",
       "      <th>brand_Volvo</th>\n",
       "      <td>1.485236e+09</td>\n",
       "    </tr>\n",
       "    <tr>\n",
       "      <th>tier_top</th>\n",
       "      <td>3.205418e+07</td>\n",
       "    </tr>\n",
       "  </tbody>\n",
       "</table>\n",
       "</div>"
      ],
      "text/plain": [
       "                      Coefficient\n",
       "kms_value            1.105377e+04\n",
       "fuel_type_Diesel     1.591531e+09\n",
       "fuel_type_Electric   1.420853e+09\n",
       "fuel_type_Lpg        4.917897e+09\n",
       "fuel_type_Petrol     4.841113e+09\n",
       "transmission_Manual  1.077192e+09\n",
       "ownership_1st Owner -5.341767e+08\n",
       "ownership_2nd Owner  1.853340e+09\n",
       "ownership_3rd Owner  3.428529e+09\n",
       "ownership_4th Owner  1.116011e+10\n",
       "ownership_5th Owner  2.135522e+10\n",
       "seats_4 Seats        4.038710e+09\n",
       "seats_5 Seats        1.975021e+09\n",
       "seats_6 Seats        2.804183e+08\n",
       "seats_7 Seats        1.417437e+09\n",
       "seats_8 Seats        4.652556e+09\n",
       "brand_BMW            4.894837e+08\n",
       "brand_Bentley       -4.768372e-06\n",
       "brand_Chevrolet      9.187228e+09\n",
       "brand_Datsun        -3.161372e+09\n",
       "brand_Fiat           3.216839e+09\n",
       "brand_Force         -7.355522e+08\n",
       "brand_Ford           1.723037e+09\n",
       "brand_Honda         -2.650919e+09\n",
       "brand_Hyundai       -4.499807e+08\n",
       "brand_Isuzu         -1.162891e+09\n",
       "brand_Jaguar         4.821454e+08\n",
       "brand_Jeep           8.180225e+07\n",
       "brand_Kia           -5.200999e+08\n",
       "brand_Land           3.950194e+08\n",
       "brand_Lexus         -1.402633e+09\n",
       "brand_MG            -5.757369e+08\n",
       "brand_Mahindra      -7.415757e+08\n",
       "brand_Maruti         8.607601e+08\n",
       "brand_Maserati       2.482610e+09\n",
       "brand_Mercedes-Benz  3.153192e+08\n",
       "brand_Mini          -2.084180e+09\n",
       "brand_Mitsubishi     3.186462e+08\n",
       "brand_Nissan        -1.959995e+09\n",
       "brand_Porsche        5.723759e+08\n",
       "brand_Premier        9.536743e-07\n",
       "brand_Renault       -1.427250e+09\n",
       "brand_Skoda         -1.607384e+09\n",
       "brand_Tata           5.668139e+09\n",
       "brand_Toyota        -1.382255e+09\n",
       "brand_Volkswagen    -2.050137e+09\n",
       "brand_Volvo          1.485236e+09\n",
       "tier_top             3.205418e+07"
      ]
     },
     "execution_count": 254,
     "metadata": {},
     "output_type": "execute_result"
    }
   ],
   "source": [
    "# Check the coefficient\n",
    "coeff_parameter = pd.DataFrame(model.coef_,x.columns,columns=['Coefficient'])\n",
    "coeff_parameter"
   ]
  }
 ],
 "metadata": {
  "kernelspec": {
   "display_name": "Python 3",
   "language": "python",
   "name": "python3"
  },
  "language_info": {
   "codemirror_mode": {
    "name": "ipython",
    "version": 3
   },
   "file_extension": ".py",
   "mimetype": "text/x-python",
   "name": "python",
   "nbconvert_exporter": "python",
   "pygments_lexer": "ipython3",
   "version": "3.10.6"
  },
  "orig_nbformat": 4,
  "vscode": {
   "interpreter": {
    "hash": "916dbcbb3f70747c44a77c7bcd40155683ae19c65e1c03b4aa3499c5328201f1"
   }
  }
 },
 "nbformat": 4,
 "nbformat_minor": 2
}
